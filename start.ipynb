{
 "cells": [
  {
   "cell_type": "code",
   "execution_count": null,
   "id": "2c90aa9f",
   "metadata": {},
   "outputs": [],
   "source": [
    "import process_recommend_place as process_recommend_place\n",
    "\n",
    "mbti = input('mbti를 입력하세요 : ')\n",
    "계절 = input('계절을 입력하세요(봄/여름/가을/겨울) : ')\n",
    "주소 = input('현재 위치 도로명 주소를 입력하세요 (예: 서울특별시 성북구 삼선교로16길 116): ')\n",
    "계절_map = {\n",
    "    '봄': 'SEASON_SPRING', '여름': 'SEASON_SUMMER',\n",
    "    '가을': 'SEASON_AUTUMN', '겨울': 'SEASON_WINTER'\n",
    "}\n",
    "계절 = 계절_map.get(계절)\n",
    "if not 계절:\n",
    "    raise ValueError(\"계절 입력 오류\") \n",
    "\n",
    "recommendations = await process_recommend_place.recommend_places(mbti, 계절, 주소)\n",
    "process_recommend_place.show_route(recommendations, 주소)\n",
    "\n",
    "\n"
   ]
  }
 ],
 "metadata": {
  "kernelspec": {
   "display_name": ".venv",
   "language": "python",
   "name": "python3"
  },
  "language_info": {
   "codemirror_mode": {
    "name": "ipython",
    "version": 3
   },
   "file_extension": ".py",
   "mimetype": "text/x-python",
   "name": "python",
   "nbconvert_exporter": "python",
   "pygments_lexer": "ipython3",
   "version": "3.12.3"
  }
 },
 "nbformat": 4,
 "nbformat_minor": 5
}
