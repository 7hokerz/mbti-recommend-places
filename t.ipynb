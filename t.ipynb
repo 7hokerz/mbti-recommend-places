{
 "cells": [
  {
   "cell_type": "code",
   "execution_count": null,
   "id": "2c90aa9f",
   "metadata": {},
   "outputs": [],
   "source": [
    "import unsupervised\n",
    "import Server_v3\n",
    "\n",
    "final_recommendations_df = await unsupervised.recommend_places('ENTP','SEASON_SUMMER')\n",
    "\n",
    "print(final_recommendations_df[[\n",
    "   'In/Out_Type(1/0)','cluster','distance','FinalScore','SIDO_NM','SGG_NM','ITS_BRO_NM'\n",
    "    ]])\n",
    "\n",
    "f = final_recommendations_df[[\n",
    "   'ITS_BRO_NM',\n",
    "    ]][:3]\n",
    "\n",
    "추천장소=f['ITS_BRO_NM'].tolist()\n",
    "\n",
    "print(추천장소)\n",
    "\n",
    "#Server_v3.process(추천장소)\n"
   ]
  }
 ],
 "metadata": {
  "kernelspec": {
   "display_name": ".venv",
   "language": "python",
   "name": "python3"
  },
  "language_info": {
   "codemirror_mode": {
    "name": "ipython",
    "version": 3
   },
   "file_extension": ".py",
   "mimetype": "text/x-python",
   "name": "python",
   "nbconvert_exporter": "python",
   "pygments_lexer": "ipython3",
   "version": "3.12.3"
  }
 },
 "nbformat": 4,
 "nbformat_minor": 5
}
