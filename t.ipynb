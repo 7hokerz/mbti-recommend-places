{
 "cells": [
  {
   "cell_type": "code",
   "execution_count": 8,
   "id": "2c90aa9f",
   "metadata": {},
   "outputs": [
    {
     "name": "stdout",
     "output_type": "stream",
     "text": [
      "\n",
      "['동락공원', '수원올림픽공원', '진천농다리']\n"
     ]
    },
    {
     "ename": "AttributeError",
     "evalue": "module 'Server_v3' has no attribute 'process'",
     "output_type": "error",
     "traceback": [
      "\u001b[31m---------------------------------------------------------------------------\u001b[39m",
      "\u001b[31mAttributeError\u001b[39m                            Traceback (most recent call last)",
      "\u001b[36mCell\u001b[39m\u001b[36m \u001b[39m\u001b[32mIn[8]\u001b[39m\u001b[32m, line 22\u001b[39m\n\u001b[32m     16\u001b[39m f = final_recommendations_df[[\n\u001b[32m     17\u001b[39m    \u001b[33m'\u001b[39m\u001b[33mITS_BRO_NM\u001b[39m\u001b[33m'\u001b[39m,\n\u001b[32m     18\u001b[39m     ]][:\u001b[32m3\u001b[39m]\n\u001b[32m     20\u001b[39m \u001b[38;5;28mprint\u001b[39m(f[\u001b[33m'\u001b[39m\u001b[33mITS_BRO_NM\u001b[39m\u001b[33m'\u001b[39m].tolist())\n\u001b[32m---> \u001b[39m\u001b[32m22\u001b[39m \u001b[43mServer_v3\u001b[49m\u001b[43m.\u001b[49m\u001b[43mprocess\u001b[49m(f[\u001b[33m'\u001b[39m\u001b[33mITS_BRO_NM\u001b[39m\u001b[33m'\u001b[39m].tolist())\n",
      "\u001b[31mAttributeError\u001b[39m: module 'Server_v3' has no attribute 'process'"
     ]
    }
   ],
   "source": [
    "import unsupervised\n",
    "import Server_v3\n",
    "\n",
    "#unsupervised.evaluation_metrics()\n",
    "if __name__ == '__main__':\n",
    "    print()\n",
    "\n",
    "#print(unsupervised.recommend_places('ENFP', 'SEASON_SPRING'))\n",
    "\n",
    "final_recommendations_df = await unsupervised.recommend_places('ISTP', 'SEASON_AUTUMN')\n",
    "\n",
    "#print(final_recommendations_df[[\n",
    "#   'In/Out_Type(1/0)','cluster','distance','SIDO_NM','SGG_NM','ITS_BRO_NM', '맑음','구름많음','흐림','없음','비','비/눈','눈','소나기',\n",
    "#    ]])\n",
    "\n",
    "f = final_recommendations_df[[\n",
    "   'ITS_BRO_NM',\n",
    "    ]][:3]\n",
    "\n",
    "print(f['ITS_BRO_NM'].tolist())\n",
    "\n",
    "Server_v3.process(f['ITS_BRO_NM'].tolist())"
   ]
  }
 ],
 "metadata": {
  "kernelspec": {
   "display_name": ".venv",
   "language": "python",
   "name": "python3"
  },
  "language_info": {
   "codemirror_mode": {
    "name": "ipython",
    "version": 3
   },
   "file_extension": ".py",
   "mimetype": "text/x-python",
   "name": "python",
   "nbconvert_exporter": "python",
   "pygments_lexer": "ipython3",
   "version": "3.12.3"
  }
 },
 "nbformat": 4,
 "nbformat_minor": 5
}
