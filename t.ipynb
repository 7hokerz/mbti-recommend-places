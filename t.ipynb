{
 "cells": [
  {
   "cell_type": "code",
   "execution_count": null,
   "id": "2c90aa9f",
   "metadata": {},
   "outputs": [
    {
     "name": "stdout",
     "output_type": "stream",
     "text": [
      "      In/Out_Type(1/0)  cluster   distance  FinalScore SIDO_NM SGG_NM  \\\n",
      "2236                 0        5   0.168705    1.000000    전라남도    강진군   \n",
      "2791                 0        5   6.490942    0.740214    전라남도    함평군   \n",
      "1343                 1        5  10.076060    0.430773    전라남도    보성군   \n",
      "1353                 1        5  10.113811    0.428604    전라남도    고흥군   \n",
      "1304                 1        5  10.120438    0.428223    전라남도    영광군   \n",
      "2152                 0        7  15.421307    0.323695    전라남도    보성군   \n",
      "2486                 0        7  15.285044    0.286161    전라남도    장성군   \n",
      "2283                 0        3  17.533070    0.277366    전라남도    고흥군   \n",
      "2139                 0        7  15.406230    0.274669    전라남도    순천시   \n",
      "2421                 0        3  17.566170    0.194417    전라남도    장성군   \n",
      "2432                 0        3  17.550077    0.188447    전라남도    순천시   \n",
      "2149                 1        7  15.449421    0.122046    전라남도    구례군   \n",
      "2202                 1        7  15.457022    0.121609    전라남도    여수시   \n",
      "2289                 0        3  17.573622    0.051838    전라남도    곡성군   \n",
      "2417                 0        3  17.483845    0.003611    전라남도    구례군   \n",
      "\n",
      "         ITS_BRO_NM  맑음  구름많음  흐림  없음  비  비/눈  눈  소나기  \n",
      "2236       보은산V랜드공원  47     1  30  75  3    0  0    0  \n",
      "2791        함평엑스포공원  45     4  29  75  3    0  0    0  \n",
      "1343       율포해수녹차센터  45     2  31  74  4    0  0    0  \n",
      "1353    나로우주센터우주과학관  47     1  30  74  4    0  0    0  \n",
      "1304    한빛원자력발전소홍보관  44     5  29  74  4    0  0    0  \n",
      "2152           대한다원  45     2  31  74  4    0  0    0  \n",
      "2486        홍길동테마파크  43     5  30  72  4    0  0    2  \n",
      "2283            소록도  47     1  30  74  4    0  0    0  \n",
      "2139  순천만국가정원오천그린광장  42     4  32  74  4    0  0    0  \n",
      "2421            백양사  43     5  30  72  4    0  0    2  \n",
      "2432            선암사  42     4  32  74  4    0  0    0  \n",
      "2149       구례자연드림파크  34    12  32  69  5    0  0    4  \n",
      "2202       아쿠아플라넷여수  45     3  30  74  4    0  0    0  \n",
      "2289            도림사  35    12  31  70  4    0  0    4  \n",
      "2417            천은사  34    12  32  69  5    0  0    4  \n",
      "['보은산V랜드공원', '함평엑스포공원', '율포해수녹차센터']\n",
      "\n"
     ]
    }
   ],
   "source": [
    "import unsupervised\n",
    "import Server_v3\n",
    "\n",
    "final_recommendations_df = await unsupervised.recommend_places('ENTP','SEASON_SUMMER','전라남도')\n",
    "\n",
    "print(final_recommendations_df[[\n",
    "   'In/Out_Type(1/0)','cluster','distance','FinalScore',\n",
    "   'SIDO_NM','SGG_NM','ITS_BRO_NM', '맑음','구름많음','흐림','없음','비','비/눈','눈','소나기',\n",
    "    ]])\n",
    "\n",
    "f = final_recommendations_df[[\n",
    "   'ITS_BRO_NM',\n",
    "    ]][:3]\n",
    "\n",
    "추천장소=f['ITS_BRO_NM'].tolist()\n",
    "\n",
    "print(추천장소)\n",
    "\n",
    "#Server_v3.process(추천장소)\n"
   ]
  }
 ],
 "metadata": {
  "kernelspec": {
   "display_name": ".venv",
   "language": "python",
   "name": "python3"
  },
  "language_info": {
   "codemirror_mode": {
    "name": "ipython",
    "version": 3
   },
   "file_extension": ".py",
   "mimetype": "text/x-python",
   "name": "python",
   "nbconvert_exporter": "python",
   "pygments_lexer": "ipython3",
   "version": "3.12.3"
  }
 },
 "nbformat": 4,
 "nbformat_minor": 5
}
