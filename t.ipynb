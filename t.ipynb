{
 "cells": [
  {
   "cell_type": "code",
   "execution_count": null,
   "id": "2c90aa9f",
   "metadata": {},
   "outputs": [],
   "source": [
    "import unsupervised\n",
    "import Server_v3\n",
    "\n",
    "#unsupervised.evaluation_metrics()\n",
    "if __name__ == '__main__':\n",
    "    print()\n",
    "\n",
    "#print(unsupervised.recommend_places('ENFP', 'SEASON_SPRING'))\n",
    "\n",
    "final_recommendations_df = await unsupervised.recommend_places('ISTP', 'SEASON_AUTUMN')\n",
    "\n",
    "#print(final_recommendations_df[[\n",
    "#   'In/Out_Type(1/0)','cluster','distance','SIDO_NM','SGG_NM','ITS_BRO_NM', '맑음','구름많음','흐림','없음','비','비/눈','눈','소나기',\n",
    "#    ]])\n",
    "\n",
    "f = final_recommendations_df[[\n",
    "   'ITS_BRO_NM',\n",
    "    ]][:3]\n",
    "\n",
    "print(f['ITS_BRO_NM'].tolist())\n",
    "\n",
    "Server_v3.process(f['ITS_BRO_NM'].tolist())"
   ]
  }
 ],
 "metadata": {
  "kernelspec": {
   "display_name": ".venv",
   "language": "python",
   "name": "python3"
  },
  "language_info": {
   "codemirror_mode": {
    "name": "ipython",
    "version": 3
   },
   "file_extension": ".py",
   "mimetype": "text/x-python",
   "name": "python",
   "nbconvert_exporter": "python",
   "pygments_lexer": "ipython3",
   "version": "3.12.3"
  }
 },
 "nbformat": 4,
 "nbformat_minor": 5
}
